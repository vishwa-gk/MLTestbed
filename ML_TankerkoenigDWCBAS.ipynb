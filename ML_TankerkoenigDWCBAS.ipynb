{
 "cells": [
  {
   "cell_type": "code",
   "execution_count": 1,
   "metadata": {},
   "outputs": [
    {
     "name": "stdout",
     "output_type": "stream",
     "text": [
      "2.15.23021701\n"
     ]
    }
   ],
   "source": [
    "import hana_ml\n",
    "print(hana_ml.__version__)"
   ]
  },
  {
   "cell_type": "code",
   "execution_count": 2,
   "metadata": {},
   "outputs": [],
   "source": [
    "from hana_ml import dataframe\n",
    "from hana_ml.dataframe import ConnectionContext\n",
    "\n",
    "conn = dataframe.ConnectionContext(address=\"XXXX.hana.prod-XXXX.hanacloud.ondemand.com\", port =443, user = \"DEMO#PYTHON\")"
   ]
  },
  {
   "cell_type": "code",
   "execution_count": 3,
   "metadata": {},
   "outputs": [
    {
     "data": {
      "text/plain": [
       "606"
      ]
     },
     "execution_count": 3,
     "metadata": {},
     "output_type": "execute_result"
    }
   ],
   "source": [
    "df_remote = conn.sql('select * from \"CPM_DEMO_202111\".\"TK_GasolinePrices_Covid19\"')\n",
    "df_remote.count()"
   ]
  },
  {
   "cell_type": "code",
   "execution_count": 4,
   "metadata": {},
   "outputs": [],
   "source": [
    "from hdbcli import dbapi\n",
    "dbapi_cursor = conn.connection.cursor()\n",
    "\n",
    "if conn.sql(\"SELECT TABLE_OID FROM SYS.TABLES WHERE TABLE_NAME = 'GASOLINEPRICE_FORECASTS_SEGMENTED';\").count() > 0:\n",
    "   dbapi_cursor.execute(\"\"\"TRUNCATE TABLE GASOLINEPRICE_FORECASTS_SEGMENTED;\"\"\")"
   ]
  },
  {
   "cell_type": "code",
   "execution_count": 5,
   "metadata": {},
   "outputs": [
    {
     "data": {
      "text/html": [
       "<div>\n",
       "<style scoped>\n",
       "    .dataframe tbody tr th:only-of-type {\n",
       "        vertical-align: middle;\n",
       "    }\n",
       "\n",
       "    .dataframe tbody tr th {\n",
       "        vertical-align: top;\n",
       "    }\n",
       "\n",
       "    .dataframe thead th {\n",
       "        text-align: right;\n",
       "    }\n",
       "</style>\n",
       "<table border=\"1\" class=\"dataframe\">\n",
       "  <thead>\n",
       "    <tr style=\"text-align: right;\">\n",
       "      <th></th>\n",
       "      <th>DATE</th>\n",
       "      <th>STATE</th>\n",
       "      <th>DIESEL</th>\n",
       "      <th>E5</th>\n",
       "      <th>E10</th>\n",
       "      <th>DIESELCHANGE</th>\n",
       "      <th>E5CHANGE</th>\n",
       "      <th>E10CHANGE</th>\n",
       "      <th>Meldedatum</th>\n",
       "      <th>NewCase</th>\n",
       "      <th>TotalCase</th>\n",
       "      <th>RecoveredCase</th>\n",
       "    </tr>\n",
       "  </thead>\n",
       "  <tbody>\n",
       "    <tr>\n",
       "      <th>601</th>\n",
       "      <td>2021-10-17</td>\n",
       "      <td>Baden-Württemberg</td>\n",
       "      <td>1.575046</td>\n",
       "      <td>1.734676</td>\n",
       "      <td>1.663572</td>\n",
       "      <td>0.768175</td>\n",
       "      <td>0.831795</td>\n",
       "      <td>0.826853</td>\n",
       "      <td>2021-10-17</td>\n",
       "      <td>0</td>\n",
       "      <td>500</td>\n",
       "      <td>497</td>\n",
       "    </tr>\n",
       "    <tr>\n",
       "      <th>602</th>\n",
       "      <td>2021-10-18</td>\n",
       "      <td>Baden-Württemberg</td>\n",
       "      <td>1.576613</td>\n",
       "      <td>1.733893</td>\n",
       "      <td>1.663404</td>\n",
       "      <td>0.751059</td>\n",
       "      <td>0.816909</td>\n",
       "      <td>0.811743</td>\n",
       "      <td>2021-10-18</td>\n",
       "      <td>0</td>\n",
       "      <td>1118</td>\n",
       "      <td>1094</td>\n",
       "    </tr>\n",
       "    <tr>\n",
       "      <th>603</th>\n",
       "      <td>2021-10-19</td>\n",
       "      <td>Baden-Württemberg</td>\n",
       "      <td>1.582585</td>\n",
       "      <td>1.741076</td>\n",
       "      <td>1.670355</td>\n",
       "      <td>0.748168</td>\n",
       "      <td>0.825459</td>\n",
       "      <td>0.819143</td>\n",
       "      <td>2021-10-19</td>\n",
       "      <td>0</td>\n",
       "      <td>3348</td>\n",
       "      <td>3323</td>\n",
       "    </tr>\n",
       "    <tr>\n",
       "      <th>604</th>\n",
       "      <td>2021-10-20</td>\n",
       "      <td>Baden-Württemberg</td>\n",
       "      <td>1.579843</td>\n",
       "      <td>1.730955</td>\n",
       "      <td>1.660201</td>\n",
       "      <td>0.730919</td>\n",
       "      <td>0.819382</td>\n",
       "      <td>0.81374</td>\n",
       "      <td>2021-10-20</td>\n",
       "      <td>0</td>\n",
       "      <td>3144</td>\n",
       "      <td>3125</td>\n",
       "    </tr>\n",
       "    <tr>\n",
       "      <th>605</th>\n",
       "      <td>2021-10-21</td>\n",
       "      <td>Baden-Württemberg</td>\n",
       "      <td>1.581192</td>\n",
       "      <td>1.732241</td>\n",
       "      <td>1.661466</td>\n",
       "      <td>0.744473</td>\n",
       "      <td>0.825713</td>\n",
       "      <td>0.819729</td>\n",
       "      <td>2021-10-21</td>\n",
       "      <td>0</td>\n",
       "      <td>2845</td>\n",
       "      <td>2828</td>\n",
       "    </tr>\n",
       "  </tbody>\n",
       "</table>\n",
       "</div>"
      ],
      "text/plain": [
       "           DATE              STATE    DIESEL        E5       E10 DIESELCHANGE  \\\n",
       "601  2021-10-17  Baden-Württemberg  1.575046  1.734676  1.663572     0.768175   \n",
       "602  2021-10-18  Baden-Württemberg  1.576613  1.733893  1.663404     0.751059   \n",
       "603  2021-10-19  Baden-Württemberg  1.582585  1.741076  1.670355     0.748168   \n",
       "604  2021-10-20  Baden-Württemberg  1.579843  1.730955  1.660201     0.730919   \n",
       "605  2021-10-21  Baden-Württemberg  1.581192  1.732241  1.661466     0.744473   \n",
       "\n",
       "     E5CHANGE E10CHANGE  Meldedatum  NewCase  TotalCase  RecoveredCase  \n",
       "601  0.831795  0.826853  2021-10-17        0        500            497  \n",
       "602  0.816909  0.811743  2021-10-18        0       1118           1094  \n",
       "603  0.825459  0.819143  2021-10-19        0       3348           3323  \n",
       "604  0.819382   0.81374  2021-10-20        0       3144           3125  \n",
       "605  0.825713  0.819729  2021-10-21        0       2845           2828  "
      ]
     },
     "execution_count": 5,
     "metadata": {},
     "output_type": "execute_result"
    }
   ],
   "source": [
    "# In this example, one time-series is shown. So, the state includes only \"Baden-Württemberg\"\n",
    "df_remote_segment = conn.sql('SELECT * FROM \"CPM_DEMO_202111\".\"TK_GasolinePrices_Covid19\"' )\n",
    "    \n",
    "# Sort data ascending, a requirement of the Automated Predictive Library\n",
    "df_remote_segment = df_remote_segment.sort(\"DATE\", desc = False)\n",
    "# Check the last day in training data set, namely 2021-10-21\n",
    "# Therefore, the forecasting shall starts with 2021-10-22\n",
    "df_remote_segment.collect().tail(5)\n"
   ]
  },
  {
   "cell_type": "code",
   "execution_count": 6,
   "metadata": {},
   "outputs": [],
   "source": [
    "\n",
    "import pandas as pd\n",
    "columns = [\"SEGMENT\", \"MAPE\"]\n",
    "df_allmapes = pd.DataFrame(columns=columns)\n"
   ]
  },
  {
   "cell_type": "code",
   "execution_count": 7,
   "metadata": {},
   "outputs": [],
   "source": [
    "\n",
    "# Import HANA-APL library\n",
    "from hana_ml.algorithms.apl.time_series import AutoTimeSeries\n",
    "# Forecast next 7 days --> Super E5, based on column \"DATE\"\n",
    "tsapl = AutoTimeSeries(time_column_name = 'DATE', target = 'E5', horizon = 7)\n",
    "tsapl.fit(data = df_remote_segment)"
   ]
  },
  {
   "cell_type": "code",
   "execution_count": 8,
   "metadata": {},
   "outputs": [],
   "source": [
    "from hana_ml.dataframe import DataFrame\n",
    "# Extra-predictable variables' values on the forecast period\n",
    "forecast_df = DataFrame(conn,\n",
    "                      'SELECT * '\n",
    "                      'from \"CPM_DEMO_202111\".\"TK_GasolinePrices_Covid19\"'\n",
    "                      'WHERE \"E5\" is null LIMIT 7')\n",
    "\n",
    "df_remote_aplforecast = tsapl.forecast(data= forecast_df)\n"
   ]
  },
  {
   "cell_type": "code",
   "execution_count": 9,
   "metadata": {},
   "outputs": [
    {
     "data": {
      "text/html": [
       "<div>\n",
       "<style scoped>\n",
       "    .dataframe tbody tr th:only-of-type {\n",
       "        vertical-align: middle;\n",
       "    }\n",
       "\n",
       "    .dataframe tbody tr th {\n",
       "        vertical-align: top;\n",
       "    }\n",
       "\n",
       "    .dataframe thead th {\n",
       "        text-align: right;\n",
       "    }\n",
       "</style>\n",
       "<table border=\"1\" class=\"dataframe\">\n",
       "  <thead>\n",
       "    <tr style=\"text-align: right;\">\n",
       "      <th></th>\n",
       "      <th>DATE</th>\n",
       "      <th>ACTUAL</th>\n",
       "      <th>PREDICTED</th>\n",
       "      <th>LOWER_INT_95PCT</th>\n",
       "      <th>UPPER_INT_95PCT</th>\n",
       "    </tr>\n",
       "  </thead>\n",
       "  <tbody>\n",
       "    <tr>\n",
       "      <th>606</th>\n",
       "      <td>2021-10-22</td>\n",
       "      <td>NaN</td>\n",
       "      <td>1.732406</td>\n",
       "      <td>1.730088</td>\n",
       "      <td>1.734724</td>\n",
       "    </tr>\n",
       "    <tr>\n",
       "      <th>607</th>\n",
       "      <td>2021-10-23</td>\n",
       "      <td>NaN</td>\n",
       "      <td>1.732554</td>\n",
       "      <td>1.730010</td>\n",
       "      <td>1.735097</td>\n",
       "    </tr>\n",
       "    <tr>\n",
       "      <th>608</th>\n",
       "      <td>2021-10-24</td>\n",
       "      <td>NaN</td>\n",
       "      <td>1.732652</td>\n",
       "      <td>1.729917</td>\n",
       "      <td>1.735387</td>\n",
       "    </tr>\n",
       "    <tr>\n",
       "      <th>609</th>\n",
       "      <td>2021-10-25</td>\n",
       "      <td>NaN</td>\n",
       "      <td>1.732587</td>\n",
       "      <td>1.729678</td>\n",
       "      <td>1.735497</td>\n",
       "    </tr>\n",
       "    <tr>\n",
       "      <th>610</th>\n",
       "      <td>2021-10-26</td>\n",
       "      <td>NaN</td>\n",
       "      <td>1.732543</td>\n",
       "      <td>1.729470</td>\n",
       "      <td>1.735616</td>\n",
       "    </tr>\n",
       "    <tr>\n",
       "      <th>611</th>\n",
       "      <td>2021-10-27</td>\n",
       "      <td>NaN</td>\n",
       "      <td>1.732563</td>\n",
       "      <td>1.729334</td>\n",
       "      <td>1.735792</td>\n",
       "    </tr>\n",
       "    <tr>\n",
       "      <th>612</th>\n",
       "      <td>2021-10-28</td>\n",
       "      <td>NaN</td>\n",
       "      <td>1.732564</td>\n",
       "      <td>1.729168</td>\n",
       "      <td>1.735960</td>\n",
       "    </tr>\n",
       "  </tbody>\n",
       "</table>\n",
       "</div>"
      ],
      "text/plain": [
       "           DATE  ACTUAL  PREDICTED  LOWER_INT_95PCT  UPPER_INT_95PCT\n",
       "606  2021-10-22     NaN   1.732406         1.730088         1.734724\n",
       "607  2021-10-23     NaN   1.732554         1.730010         1.735097\n",
       "608  2021-10-24     NaN   1.732652         1.729917         1.735387\n",
       "609  2021-10-25     NaN   1.732587         1.729678         1.735497\n",
       "610  2021-10-26     NaN   1.732543         1.729470         1.735616\n",
       "611  2021-10-27     NaN   1.732563         1.729334         1.735792\n",
       "612  2021-10-28     NaN   1.732564         1.729168         1.735960"
      ]
     },
     "execution_count": 9,
     "metadata": {},
     "output_type": "execute_result"
    }
   ],
   "source": [
    "\n",
    "# Check the next 7 days forecasting\n",
    "df_remote_aplforecast_next7 = df_remote_aplforecast.collect().tail(7)\n",
    "df_remote_aplforecast_next7 \n"
   ]
  },
  {
   "cell_type": "code",
   "execution_count": 10,
   "metadata": {},
   "outputs": [
    {
     "data": {
      "text/plain": [
       "<hana_ml.dataframe.DataFrame at 0x111355e80>"
      ]
     },
     "execution_count": 10,
     "metadata": {},
     "output_type": "execute_result"
    }
   ],
   "source": [
    "\n",
    "# Write the forecasting results in the target table of SAP Data Warehouse Cloud\n",
    "segment_bw = 'Baden-Württemberg'\n",
    "df_remote_aplforecast = df_remote_aplforecast.select('*', (\"'\" + segment_bw + \"'\", 'SEGMENT'))\n",
    "df_remote_aplforecast = df_remote_aplforecast.cast(\"SEGMENT\", \"NVARCHAR(100)\") # Needed to ensure future segments with longer names can be stored\n",
    "df_remote_aplforecast.save(\"GASOLINEPRICE_FORECASTS_SEGMENTED\", append = True)"
   ]
  },
  {
   "cell_type": "code",
   "execution_count": 11,
   "metadata": {},
   "outputs": [
    {
     "name": "stderr",
     "output_type": "stream",
     "text": [
      "/Users/vishwa/Library/Python/3.9/lib/python/site-packages/hana_ml/algorithms/apl/time_series.py:901: FutureWarning: iteritems is deprecated and will be removed in a future version. Use .items instead.\n",
      "  ret = {metric_name: [val for _, val in vals.iteritems()]\n",
      "/var/folders/mg/phh0t0n96ndg9y12t2rshdm80000gn/T/ipykernel_80906/3461141853.py:3: FutureWarning: The frame.append method is deprecated and will be removed from pandas in a future version. Use pandas.concat instead.\n",
      "  df_allmapes = df_allmapes.append({\"SEGMENT\": segment_bw, \"MAPE\": ts_mape}, ignore_index=True)\n"
     ]
    }
   ],
   "source": [
    "# Track model quality\n",
    "ts_mape = tsapl.get_performance_metrics()['MAPE'][0]\n",
    "df_allmapes = df_allmapes.append({\"SEGMENT\": segment_bw, \"MAPE\": ts_mape}, ignore_index=True)\n"
   ]
  },
  {
   "cell_type": "code",
   "execution_count": 12,
   "metadata": {},
   "outputs": [
    {
     "data": {
      "text/html": [
       "<div>\n",
       "<style scoped>\n",
       "    .dataframe tbody tr th:only-of-type {\n",
       "        vertical-align: middle;\n",
       "    }\n",
       "\n",
       "    .dataframe tbody tr th {\n",
       "        vertical-align: top;\n",
       "    }\n",
       "\n",
       "    .dataframe thead th {\n",
       "        text-align: right;\n",
       "    }\n",
       "</style>\n",
       "<table border=\"1\" class=\"dataframe\">\n",
       "  <thead>\n",
       "    <tr style=\"text-align: right;\">\n",
       "      <th></th>\n",
       "      <th>SEGMENT</th>\n",
       "      <th>MAPE</th>\n",
       "    </tr>\n",
       "  </thead>\n",
       "  <tbody>\n",
       "    <tr>\n",
       "      <th>0</th>\n",
       "      <td>Baden-Württemberg</td>\n",
       "      <td>0.000583</td>\n",
       "    </tr>\n",
       "  </tbody>\n",
       "</table>\n",
       "</div>"
      ],
      "text/plain": [
       "             SEGMENT      MAPE\n",
       "0  Baden-Württemberg  0.000583"
      ]
     },
     "execution_count": 12,
     "metadata": {},
     "output_type": "execute_result"
    }
   ],
   "source": [
    "df_allmapes"
   ]
  },
  {
   "cell_type": "code",
   "execution_count": 13,
   "metadata": {},
   "outputs": [
    {
     "name": "stderr",
     "output_type": "stream",
     "text": [
      "Fontconfig warning: ignoring UTF-8: not a valid region tag\n"
     ]
    },
    {
     "data": {
      "image/png": "[encoded data removed]",
      "text/plain": [
       "<Figure size 1500x500 with 1 Axes>"
      ]
     },
     "metadata": {},
     "output_type": "display_data"
    }
   ],
   "source": [
    "%matplotlib inline\n",
    "import matplotlib.pyplot as plt\n",
    "df_remote = conn.sql(\"SELECT * FROM GASOLINEPRICE_FORECASTS_SEGMENTED WHERE SEGMENT ='Baden-Württemberg'\")\n",
    "ts_data = df_remote.collect()\n",
    "plt.figure(figsize=(15, 5))\n",
    "plt.plot(ts_data[\"ACTUAL\"], linewidth=1)\n",
    "plt.plot(ts_data[\"PREDICTED\"], linewidth=1)\n",
    "plt.fill_between( ts_data.index, ts_data[\"LOWER_INT_95PCT\"], ts_data[\"UPPER_INT_95PCT\"], color='b', alpha=.1);"
   ]
  }
 ],
 "metadata": {
  "kernelspec": {
   "display_name": "Python 3",
   "language": "python",
   "name": "python3"
  },
  "language_info": {
   "codemirror_mode": {
    "name": "ipython",
    "version": 3
   },
   "file_extension": ".py",
   "mimetype": "text/x-python",
   "name": "python",
   "nbconvert_exporter": "python",
   "pygments_lexer": "ipython3",
   "version": "3.9.6"
  },
  "orig_nbformat": 4,
  "vscode": {
   "interpreter": {
    "hash": "31f2aee4e71d21fbe5cf8b01ff0e069b9275f58929596ceb00d14d90e3e16cd6"
   }
  }
 },
 "nbformat": 4,
 "nbformat_minor": 2
}
