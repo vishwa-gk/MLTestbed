{
 "cells": [
  {
   "cell_type": "code",
   "execution_count": 4,
   "metadata": {},
   "outputs": [],
   "source": [
    "# testing out that reading from .env works as expected\n",
    "import os\n",
    "from hdbcli import dbapi\n",
    "from dotenv import load_dotenv\n",
    "\n",
    "load_dotenv()\n",
    "os.environ.get(\"TEST\")\n",
    "\n",
    "# Connection constants for space PYTHONCODESAMPLES\n",
    "dbHost=\"9ee99a70-9d98-481d-ab94-00b0417b66c5.hana.prod-eu10.hanacloud.ondemand.com\" #you should have noted them above\n",
    "dbPort=443\n",
    "dbUser=\"SP_PROJECTTEST#PYTHON\"\n",
    "dbPwd=os.environ.get(\"HANA_PWD_PYTHONCODESAMPLES\")  #load pwd from .env file\n",
    "dbIngestionSchema=\"SP_PROJECTTEST#PYTHON\"\n",
    "dbConsumptionSchema=\"SP_PROJECTTEST\"\n",
    "dbExampleTable=\"V_World_GDP_RAW\"\n",
    "dbExampleView=\"V_SalesOrder_CV\""
   ]
  },
  {
   "cell_type": "code",
   "execution_count": 9,
   "metadata": {},
   "outputs": [
    {
     "name": "stderr",
     "output_type": "stream",
     "text": [
      "/var/folders/mg/phh0t0n96ndg9y12t2rshdm80000gn/T/ipykernel_45113/1632164404.py:5: SADeprecationWarning: The dbapi() classmethod on dialect classes has been renamed to import_dbapi().  Implement an import_dbapi() classmethod directly on class <class 'sqlalchemy_hana.dialect.HANAHDBCLIDialect'> to remove this warning; the old .dbapi() classmethod may be maintained for backwards compatibility.\n",
      "  engine = create_engine(f'hana://{dbUser}:{dbPwd}@{dbHost}:{dbPort}', connect_args={\n"
     ]
    }
   ],
   "source": [
    "from sqlalchemy import create_engine\n",
    "from sqlalchemy.sql import text\n",
    "\n",
    "# creation of central connection objects. Set echo=True, if you need a log of all statements issued towards the DB\n",
    "engine = create_engine(f'hana://{dbUser}:{dbPwd}@{dbHost}:{dbPort}', connect_args={\n",
    "    'sslTrustStore' : \"\",\n",
    "    'encrypt' : 'true',\n",
    "    'sslHostNameInCertificate' : '*'\n",
    "}, echo=True)"
   ]
  },
  {
   "cell_type": "code",
   "execution_count": 12,
   "metadata": {},
   "outputs": [],
   "source": [
    "connection = engine.connect()\n",
    "# Session = sessionmaker(bind=engine)\n",
    "# connection = Session()"
   ]
  },
  {
   "cell_type": "code",
   "execution_count": 14,
   "metadata": {},
   "outputs": [
    {
     "name": "stdout",
     "output_type": "stream",
     "text": [
      "2023-03-23 13:39:35,680 INFO sqlalchemy.engine.Engine BEGIN (implicit)\n",
      "2023-03-23 13:39:35,682 INFO sqlalchemy.engine.Engine select top 2 * from \"SP_PROJECTTEST\".\"V_SalesOrder_CV\"\n",
      "2023-03-23 13:39:35,682 INFO sqlalchemy.engine.Engine [dialect hana+hdbcli does not support caching 0.00236s] ()\n"
     ]
    },
    {
     "name": "stderr",
     "output_type": "stream",
     "text": [
      "/var/folders/mg/phh0t0n96ndg9y12t2rshdm80000gn/T/ipykernel_45113/890756207.py:2: SAWarning: Dialect hana:hdbcli will not make use of SQL compilation caching as it does not set the 'supports_statement_cache' attribute to ``True``.  This can have significant performance implications including some performance degradations in comparison to prior SQLAlchemy versions.  Dialect maintainers should seek to set this attribute to True after appropriate development and testing for SQLAlchemy 1.4 caching support.   Alternatively, this attribute may be set to False which will disable this warning. (Background on this error at: https://sqlalche.me/e/20/cprf)\n",
      "  result = connection.execute(stmt)\n"
     ]
    },
    {
     "name": "stdout",
     "output_type": "stream",
     "text": [
      "('0500000111', '0000000010', 'RC-1054', None, 'USD', 'I', None, 'EA', datetime.date(2018, 8, 21), '0500000111', '0000000005', datetime.date(2018, 6, 12), '0000000005', datetime.date(2018, 6, 16), 'K4', '2018006', None, '0100000020', 'APJ', 'USD', 'C', 'C', 'C', Decimal('5499'), Decimal('4811.63'), Decimal('687.37'), Decimal('2'), Decimal('71749'), Decimal('62780.45'), Decimal('8968.37'))\n",
      "('0500000111', '0000000020', 'MB-1033', None, 'USD', 'I', None, 'EA', datetime.date(2018, 8, 21), '0500000111', '0000000005', datetime.date(2018, 6, 12), '0000000005', datetime.date(2018, 6, 16), 'K4', '2018006', None, '0100000020', 'APJ', 'USD', 'C', 'C', 'C', Decimal('3999'), Decimal('3499.13'), Decimal('499.87'), Decimal('3'), Decimal('71749'), Decimal('62780.45'), Decimal('8968.37'))\n"
     ]
    }
   ],
   "source": [
    "stmt = text(f'select top 2 * from \"{dbConsumptionSchema}\".\"{dbExampleView}\"')\n",
    "result = connection.execute(stmt)\n",
    "for row in result:\n",
    "    print(row)"
   ]
  },
  {
   "cell_type": "code",
   "execution_count": 15,
   "metadata": {},
   "outputs": [
    {
     "name": "stdout",
     "output_type": "stream",
     "text": [
      "2023-03-23 13:39:48,169 INFO sqlalchemy.engine.Engine SELECT SCHEMA_NAME FROM SYS.SCHEMAS\n",
      "2023-03-23 13:39:48,170 INFO sqlalchemy.engine.Engine [dialect hana+hdbcli does not support caching 0.00123s] ()\n"
     ]
    },
    {
     "data": {
      "text/plain": [
       "['dwc_global',\n",
       " 'dwc_tenant_owner',\n",
       " 'pal_stem_tfidf',\n",
       " 'rob_sub',\n",
       " 'sap_pa_apl',\n",
       " 'sp_projecttest',\n",
       " 'SP_PROJECTTEST#PYTHON',\n",
       " 'sp_projecttest$tec',\n",
       " 'sys',\n",
       " 'system',\n",
       " '_sys_afl',\n",
       " '_sys_bi',\n",
       " '_sys_di',\n",
       " '_sys_plan_stability',\n",
       " '_sys_sql_analyzer',\n",
       " '_sys_task']"
      ]
     },
     "execution_count": 15,
     "metadata": {},
     "output_type": "execute_result"
    }
   ],
   "source": [
    "engine.dialect.get_schema_names(connection=connection)"
   ]
  },
  {
   "cell_type": "code",
   "execution_count": 16,
   "metadata": {},
   "outputs": [
    {
     "name": "stdout",
     "output_type": "stream",
     "text": [
      "2023-03-23 13:39:55,689 INFO sqlalchemy.engine.Engine SELECT VIEW_NAME FROM SYS.VIEWS WHERE SCHEMA_NAME=?\n",
      "2023-03-23 13:39:55,690 INFO sqlalchemy.engine.Engine [dialect hana+hdbcli does not support caching 0.00137s] ('SP_PROJECTTEST',)\n"
     ]
    },
    {
     "data": {
      "text/plain": [
       "['V_Product', 'V_SalesOrder_CV', 'V_World_GDP_RAW']"
      ]
     },
     "execution_count": 16,
     "metadata": {},
     "output_type": "execute_result"
    }
   ],
   "source": [
    "engine.dialect.get_view_names(connection=connection, schema=dbConsumptionSchema)"
   ]
  },
  {
   "cell_type": "code",
   "execution_count": 21,
   "metadata": {},
   "outputs": [],
   "source": [
    "import pandas\n",
    "# df = pandas.read_sql_table(stmt, con=engine)\n",
    "# Doesn't work some bug in sql alchemy, would have been useful we switch back to hdicli"
   ]
  }
 ],
 "metadata": {
  "kernelspec": {
   "display_name": "Python 3",
   "language": "python",
   "name": "python3"
  },
  "language_info": {
   "codemirror_mode": {
    "name": "ipython",
    "version": 3
   },
   "file_extension": ".py",
   "mimetype": "text/x-python",
   "name": "python",
   "nbconvert_exporter": "python",
   "pygments_lexer": "ipython3",
   "version": "3.11.2"
  },
  "orig_nbformat": 4
 },
 "nbformat": 4,
 "nbformat_minor": 2
}
