{
 "cells": [
  {
   "cell_type": "code",
   "execution_count": 1,
   "metadata": {},
   "outputs": [
    {
     "name": "stdout",
     "output_type": "stream",
     "text": [
      "3\n"
     ]
    }
   ],
   "source": [
    "x = 1 + 2\n",
    "print (x)"
   ]
  },
  {
   "cell_type": "code",
   "execution_count": 9,
   "metadata": {},
   "outputs": [
    {
     "name": "stdout",
     "output_type": "stream",
     "text": [
      "  % Total    % Received % Xferd  Average Speed   Time    Time     Time  Current\n",
      "                                 Dload  Upload   Total   Spent    Left  Speed\n",
      "100 2513k  100 2513k    0     0  4684k      0 --:--:-- --:--:-- --:--:-- 4752k\n",
      "Defaulting to user installation because normal site-packages is not writeable\n",
      "Collecting pip\n",
      "  Using cached pip-23.0.1-py3-none-any.whl (2.1 MB)\n",
      "Installing collected packages: pip\n",
      "  Attempting uninstall: pip\n",
      "    Found existing installation: pip 23.0.1\n",
      "    Uninstalling pip-23.0.1:\n",
      "      Successfully uninstalled pip-23.0.1\n",
      "\u001b[33m  WARNING: The scripts pip, pip3 and pip3.9 are installed in '/Users/vishwa/Library/Python/3.9/bin' which is not on PATH.\n",
      "  Consider adding this directory to PATH or, if you prefer to suppress this warning, use --no-warn-script-location.\u001b[0m\u001b[33m\n",
      "\u001b[0mSuccessfully installed pip-23.0.1\n",
      "FROM BASHRC_START\n",
      "FROM BASHRC_END\n"
     ]
    }
   ],
   "source": [
    "!curl https://bootstrap.pypa.io/get-pip.py >get-pip.py &&python3 get-pip.py &&echo \"export PATH=/home/user/.local/bin:$PATH\">>.bashrc &&source ~/.bashrc"
   ]
  },
  {
   "cell_type": "code",
   "execution_count": 3,
   "metadata": {},
   "outputs": [
    {
     "name": "stdout",
     "output_type": "stream",
     "text": [
      "Defaulting to user installation because normal site-packages is not writeable\n",
      "Requirement already satisfied: hdbcli in /Users/vishwa/Library/Python/3.9/lib/python/site-packages (2.15.22)\n",
      "Defaulting to user installation because normal site-packages is not writeable\n",
      "Requirement already satisfied: hana-ml in /Users/vishwa/Library/Python/3.9/lib/python/site-packages (2.15.23021701)\n",
      "Requirement already satisfied: hdbcli>=2.13.13 in /Users/vishwa/Library/Python/3.9/lib/python/site-packages (from hana-ml) (2.15.22)\n",
      "Requirement already satisfied: tqdm>=4.43.0 in /Users/vishwa/Library/Python/3.9/lib/python/site-packages (from hana-ml) (4.65.0)\n",
      "Requirement already satisfied: htmlmin>=0.1.12 in /Users/vishwa/Library/Python/3.9/lib/python/site-packages (from hana-ml) (0.1.12)\n",
      "Requirement already satisfied: Deprecated in /Users/vishwa/Library/Python/3.9/lib/python/site-packages (from hana-ml) (1.2.13)\n",
      "Requirement already satisfied: schedule in /Users/vishwa/Library/Python/3.9/lib/python/site-packages (from hana-ml) (1.1.0)\n",
      "Requirement already satisfied: pydot in /Users/vishwa/Library/Python/3.9/lib/python/site-packages (from hana-ml) (1.4.2)\n",
      "Requirement already satisfied: pandas>=0.24.2 in /Users/vishwa/Library/Python/3.9/lib/python/site-packages (from hana-ml) (1.5.3)\n",
      "Requirement already satisfied: numpy>=1.16.4 in /Users/vishwa/Library/Python/3.9/lib/python/site-packages (from hana-ml) (1.24.2)\n",
      "Requirement already satisfied: matplotlib in /Users/vishwa/Library/Python/3.9/lib/python/site-packages (from hana-ml) (3.7.1)\n",
      "Requirement already satisfied: python-dateutil>=2.8.1 in /Users/vishwa/Library/Python/3.9/lib/python/site-packages (from pandas>=0.24.2->hana-ml) (2.8.2)\n",
      "Requirement already satisfied: pytz>=2020.1 in /Users/vishwa/Library/Python/3.9/lib/python/site-packages (from pandas>=0.24.2->hana-ml) (2022.7.1)\n",
      "Requirement already satisfied: wrapt<2,>=1.10 in /Users/vishwa/Library/Python/3.9/lib/python/site-packages (from Deprecated->hana-ml) (1.15.0)\n",
      "Requirement already satisfied: pyparsing>=2.3.1 in /Users/vishwa/Library/Python/3.9/lib/python/site-packages (from matplotlib->hana-ml) (3.0.9)\n",
      "Requirement already satisfied: importlib-resources>=3.2.0 in /Users/vishwa/Library/Python/3.9/lib/python/site-packages (from matplotlib->hana-ml) (5.12.0)\n",
      "Requirement already satisfied: cycler>=0.10 in /Users/vishwa/Library/Python/3.9/lib/python/site-packages (from matplotlib->hana-ml) (0.11.0)\n",
      "Requirement already satisfied: pillow>=6.2.0 in /Users/vishwa/Library/Python/3.9/lib/python/site-packages (from matplotlib->hana-ml) (9.4.0)\n",
      "Requirement already satisfied: contourpy>=1.0.1 in /Users/vishwa/Library/Python/3.9/lib/python/site-packages (from matplotlib->hana-ml) (1.0.7)\n",
      "Requirement already satisfied: fonttools>=4.22.0 in /Users/vishwa/Library/Python/3.9/lib/python/site-packages (from matplotlib->hana-ml) (4.39.0)\n",
      "Requirement already satisfied: packaging>=20.0 in /Users/vishwa/Library/Python/3.9/lib/python/site-packages (from matplotlib->hana-ml) (23.0)\n",
      "Requirement already satisfied: kiwisolver>=1.0.1 in /Users/vishwa/Library/Python/3.9/lib/python/site-packages (from matplotlib->hana-ml) (1.4.4)\n",
      "Requirement already satisfied: zipp>=3.1.0 in /Users/vishwa/Library/Python/3.9/lib/python/site-packages (from importlib-resources>=3.2.0->matplotlib->hana-ml) (3.15.0)\n",
      "Requirement already satisfied: six>=1.5 in /Library/Developer/CommandLineTools/Library/Frameworks/Python3.framework/Versions/3.9/lib/python3.9/site-packages (from python-dateutil>=2.8.1->pandas>=0.24.2->hana-ml) (1.15.0)\n",
      "Defaulting to user installation because normal site-packages is not writeable\n",
      "Requirement already satisfied: shapely in /Users/vishwa/Library/Python/3.9/lib/python/site-packages (2.0.1)\n",
      "Requirement already satisfied: numpy>=1.14 in /Users/vishwa/Library/Python/3.9/lib/python/site-packages (from shapely) (1.24.2)\n",
      "Defaulting to user installation because normal site-packages is not writeable\n",
      "Collecting python-dotenv\n",
      "  Downloading python_dotenv-1.0.0-py3-none-any.whl (19 kB)\n",
      "Installing collected packages: python-dotenv\n",
      "Successfully installed python-dotenv-1.0.0\n",
      "Defaulting to user installation because normal site-packages is not writeable\n",
      "Requirement already satisfied: sqlalchemy in /Users/vishwa/Library/Python/3.9/lib/python/site-packages (2.0.5.post1)\n",
      "Requirement already satisfied: greenlet!=0.4.17 in /Users/vishwa/Library/Python/3.9/lib/python/site-packages (from sqlalchemy) (2.0.2)\n",
      "Requirement already satisfied: typing-extensions>=4.2.0 in /Users/vishwa/Library/Python/3.9/lib/python/site-packages (from sqlalchemy) (4.5.0)\n",
      "Defaulting to user installation because normal site-packages is not writeable\n",
      "Requirement already satisfied: sqlalchemy-hana in /Users/vishwa/Library/Python/3.9/lib/python/site-packages (0.5.0)\n",
      "Requirement already satisfied: sqlalchemy>=1.0.0 in /Users/vishwa/Library/Python/3.9/lib/python/site-packages (from sqlalchemy-hana) (2.0.5.post1)\n",
      "Requirement already satisfied: greenlet!=0.4.17 in /Users/vishwa/Library/Python/3.9/lib/python/site-packages (from sqlalchemy>=1.0.0->sqlalchemy-hana) (2.0.2)\n",
      "Requirement already satisfied: typing-extensions>=4.2.0 in /Users/vishwa/Library/Python/3.9/lib/python/site-packages (from sqlalchemy>=1.0.0->sqlalchemy-hana) (4.5.0)\n"
     ]
    }
   ],
   "source": [
    "# hdbcli hana-ml \n",
    "!python3 -m pip install hdbcli\n",
    "!python3 -m pip install hana-ml\n",
    "!python3 -m pip install shapely\n",
    "# Additional \n",
    "!python3 -m pip install python-dotenv\n",
    "!python3 -m pip install sqlalchemy\n",
    "!python3 -m pip install sqlalchemy-hana"
   ]
  },
  {
   "cell_type": "code",
   "execution_count": 5,
   "metadata": {},
   "outputs": [],
   "source": [
    "# Hello World\n",
    "from hana_ml import dataframe\n",
    "from hdbcli import dbapi\n",
    "\n",
    "# Additional import\n",
    "import os\n",
    "\n",
    "from dotenv import load_dotenv\n",
    "import pandas as pd\n",
    "\n",
    "from sqlalchemy import create_engine\n",
    "from sqlalchemy.engine import reflection\n",
    "import sqlalchemy.types"
   ]
  }
 ],
 "metadata": {
  "kernelspec": {
   "display_name": "Python 3",
   "language": "python",
   "name": "python3"
  },
  "language_info": {
   "codemirror_mode": {
    "name": "ipython",
    "version": 3
   },
   "file_extension": ".py",
   "mimetype": "text/x-python",
   "name": "python",
   "nbconvert_exporter": "python",
   "pygments_lexer": "ipython3",
   "version": "3.9.6"
  },
  "orig_nbformat": 4,
  "vscode": {
   "interpreter": {
    "hash": "31f2aee4e71d21fbe5cf8b01ff0e069b9275f58929596ceb00d14d90e3e16cd6"
   }
  }
 },
 "nbformat": 4,
 "nbformat_minor": 2
}
